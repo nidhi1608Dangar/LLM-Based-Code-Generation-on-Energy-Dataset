{
 "cells": [
  {
   "cell_type": "code",
   "execution_count": 1,
   "id": "41da8b9b",
   "metadata": {},
   "outputs": [],
   "source": [
    "import pandas as pd"
   ]
  },
  {
   "cell_type": "code",
   "execution_count": 2,
   "id": "76a83eb4",
   "metadata": {},
   "outputs": [
    {
     "name": "stderr",
     "output_type": "stream",
     "text": [
      "/var/folders/s3/7tk7hl2j6gz63rsgbp_4ctvm0000gn/T/ipykernel_20718/2702773909.py:1: FutureWarning: Support for nested sequences for 'parse_dates' in pd.read_csv is deprecated. Combine the desired columns with pd.to_datetime after parsing instead.\n",
      "  df = pd.read_csv('household_power_consumption.txt',\n",
      "/var/folders/s3/7tk7hl2j6gz63rsgbp_4ctvm0000gn/T/ipykernel_20718/2702773909.py:1: FutureWarning: The argument 'infer_datetime_format' is deprecated and will be removed in a future version. A strict version of it is now the default, see https://pandas.pydata.org/pdeps/0004-consistent-to-datetime-parsing.html. You can safely remove this argument.\n",
      "  df = pd.read_csv('household_power_consumption.txt',\n"
     ]
    }
   ],
   "source": [
    "df = pd.read_csv('household_power_consumption.txt',\n",
    "                 sep=';',\n",
    "                 parse_dates={'datetime': ['Date', 'Time']},\n",
    "                 dayfirst=True,\n",
    "                 infer_datetime_format=True,\n",
    "                 na_values=['?'],\n",
    "                 low_memory=False)"
   ]
  },
  {
   "cell_type": "code",
   "execution_count": 3,
   "id": "b95517b1",
   "metadata": {},
   "outputs": [],
   "source": [
    "df = df.dropna()"
   ]
  },
  {
   "cell_type": "code",
   "execution_count": 4,
   "id": "3bef0043",
   "metadata": {},
   "outputs": [],
   "source": [
    "df['Global_active_power'] = df['Global_active_power'].astype(float)"
   ]
  },
  {
   "cell_type": "code",
   "execution_count": 5,
   "id": "2b15899b",
   "metadata": {},
   "outputs": [],
   "source": [
    "df = df.set_index('datetime')"
   ]
  },
  {
   "cell_type": "code",
   "execution_count": 6,
   "id": "0ba77b13",
   "metadata": {},
   "outputs": [],
   "source": [
    "import os\n",
    "\n",
    "from groq import Groq"
   ]
  },
  {
   "cell_type": "code",
   "execution_count": 7,
   "id": "d5ac2789",
   "metadata": {},
   "outputs": [],
   "source": [
    "client = Groq(\n",
    "    api_key='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',\n",
    ")"
   ]
  },
  {
   "cell_type": "code",
   "execution_count": 8,
   "id": "ff605961",
   "metadata": {},
   "outputs": [],
   "source": [
    "# Prompt template for generating python code\n",
    "\n",
    "GENERATION_PROMPT_TEMPLATE = \"\"\"\n",
    "# CONTEXT\n",
    "# You have a pandas DataFrame named df,\n",
    "# Dataframe df is indexed by datetime, with columns:\n",
    "# ['Global_active_power', 'Global_reactive_power', 'Voltage', 'Global_intensity',\n",
    "#  'Sub_metering_1', 'Sub_metering_2', 'Sub_metering_3']\n",
    "\n",
    "# DataFrame columns description:\n",
    "# `Global_active_power` - minute averaged active power (in kilowatt)\n",
    "# `Global_reactive_power` - minute averaged active power (in kilowatt)\n",
    "# `Voltage` - minute averaged voltage (in volt) \n",
    "# `Global_intensity` - minute averaged current intensity(in ampere)\n",
    "# `Sub_metering_1` (in watt-hour of active energy)\n",
    "# `Sub_metering_2` (in watt-hour of active energy)\n",
    "# `Sub_metering_3` (in watt-hour of active energy)\n",
    "\n",
    "# INSTRUCTIONS\n",
    "# - Generate only valid executable Python code (no explanations or markdown ).\n",
    "# - Include all necessary imports (e.g., pandas, matplotlib).\n",
    "# - Assume df is already loaded and preprocessed.\n",
    "\n",
    "# EXAMPLES\n",
    "# Query: What was the average active power in January 2007?\n",
    "# Python Code:\n",
    "# import pandas as pd\n",
    "# avg_jan = df.loc['2007-01-01':'2007-01-31']['Global_active_power'].mean()\n",
    "# print(avg_jan)\n",
    "# \n",
    "# Query: What was the maximum voltage on February 1, 2007?\n",
    "# Python Code:\n",
    "# import pandas as pd\n",
    "# max_vol = df['2007-02-01']['Voltage'].max()\n",
    "# \n",
    "# Query: Plot voltage values for February 2, 2007\n",
    "# Python Code:\n",
    "# import matplotlib.pyplot as plt\n",
    "# voltage_day = df.loc['2007-02-02']['Voltage']\n",
    "# voltage_day.plot()\n",
    "# plt.title(\"Voltage on 2007-02-02\")\n",
    "# plt.xlabel(\"Time\")\n",
    "# plt.ylabel(\"Voltage (V)\")\n",
    "# plt.show()\n",
    "# \n",
    "\n",
    "# NOW GENERATE CODE\n",
    "# Query: {query}\n",
    "# \n",
    "\n",
    "\"\"\""
   ]
  },
  {
   "cell_type": "code",
   "execution_count": 9,
   "id": "0f1dbc27",
   "metadata": {},
   "outputs": [],
   "source": [
    "# Prompt template for validating python code\n",
    "\n",
    "VALIDATION_PROMPT_TEMPLATE = \"\"\"\n",
    "# CONTEXT\n",
    "# The following pandas code snippet is intended to answer the question:\n",
    "# \"{query}\" against the DataFrame df.\n",
    "\n",
    "# CODE_SNIPPET_START\n",
    "{code}\n",
    "# CODE_SNIPPET_END\n",
    "\n",
    "# TASK\n",
    "# - Verify that the snippet correctly uses pandas operations to fulfill the query.\n",
    "# - Return ONLY 'VALID' if correct, or 'INVALID: ' plus a brief correction hint.\n",
    "\"\"\""
   ]
  },
  {
   "cell_type": "code",
   "execution_count": 10,
   "id": "e0360302",
   "metadata": {},
   "outputs": [],
   "source": [
    "refine_prompt = \"\"\"\n",
    "# TASK: The following pandas code for query \"{query}\" is INVALID. Correct it.\n",
    "# ORIGINAL_CODE_START\n",
    "{code}\n",
    "# ORIGINAL_CODE_END\n",
    "\n",
    "# CORRECT GENERATE CODE\n",
    "# Q: {query}\n",
    "# ```python\n",
    "\n",
    "# Return only the corrected Python snippet without commentary.\n",
    "\"\"\"\n"
   ]
  },
  {
   "cell_type": "code",
   "execution_count": 11,
   "id": "ddcc1147",
   "metadata": {},
   "outputs": [],
   "source": [
    "def generate_code(query:str)->str:\n",
    "    \"\"\"Generate pandas code for a given natural-language query.\"\"\"\n",
    "    prompt = GENERATION_PROMPT_TEMPLATE.format(query = query)\n",
    "    response = client.chat.completions.create(\n",
    "        model=\"llama3-70b-8192\",\n",
    "        messages=[\n",
    "            {\n",
    "                \"role\": \"system\",\n",
    "                \"content\": prompt,\n",
    "            }\n",
    "        ],\n",
    "        temperature = 0.1\n",
    "    )\n",
    "    return response.choices[0].message.content.strip()"
   ]
  },
  {
   "cell_type": "code",
   "execution_count": 12,
   "id": "d021d6ae",
   "metadata": {},
   "outputs": [],
   "source": [
    "def validate_code(query: str, code: str) -> str:\n",
    "    \"\"\"Validate a generated pandas code snippet via the LLM.\"\"\"\n",
    "    prompt = VALIDATION_PROMPT_TEMPLATE.format(query=query, code=code)\n",
    "    response = client.chat.completions.create(\n",
    "        model=\"llama3-70b-8192\",\n",
    "        messages=[\n",
    "            {\n",
    "                \"role\": \"system\",\n",
    "                \"content\": prompt\n",
    "            }\n",
    "        ],\n",
    "        temperature=0.1,\n",
    "    )\n",
    "    return response.choices[0].message.content.strip()"
   ]
  },
  {
   "cell_type": "code",
   "execution_count": 13,
   "id": "73335a0c",
   "metadata": {},
   "outputs": [],
   "source": [
    "def refine_code(query: str, code: str) -> str:\n",
    "    \"\"\"Refine an invalid code snippet to be correct.\"\"\"\n",
    "    prompt = refine_prompt.format(query=query, code=code)\n",
    "    response = client.chat.completions.create(\n",
    "        model=\"llama3-70b-8192\",\n",
    "        messages=[\n",
    "            {\n",
    "                \"role\": \"system\",\n",
    "                \"content\": prompt\n",
    "            }\n",
    "        ],\n",
    "        temperature=0.0,\n",
    "        max_tokens=256,\n",
    "    )\n",
    "    return response.choices[0].message.content.strip()"
   ]
  },
  {
   "cell_type": "code",
   "execution_count": 14,
   "id": "b22697e0",
   "metadata": {},
   "outputs": [],
   "source": [
    "queries = ['What was the average active power consumption in March 2007?',\n",
    "           'What hour of the day had the highest power usage on Christmas 2006?',\n",
    "           'Compare energy usage (Global_active_power) on weekdays vs weekends.',\n",
    "           'Find days where energy consumption exceeded 5 kWh.',\n",
    "           'Plot the energy usage trend for the first week of January 2007.',\n",
    "           'Find the average voltage for each day of the first week of February 2007.',\n",
    "           'What is the correlation between global active power and sub-metering values?']"
   ]
  },
  {
   "cell_type": "code",
   "execution_count": 16,
   "id": "a66a702b",
   "metadata": {
    "scrolled": false
   },
   "outputs": [
    {
     "name": "stdout",
     "output_type": "stream",
     "text": [
      "Query-1:What was the average active power consumption in March 2007?\n",
      " Generated code:\n",
      " import pandas as pd\n",
      "avg_mar = df.loc['2007-03-01':'2007-03-31']['Global_active_power'].mean()\n",
      "print(avg_mar)\n",
      "\n",
      "Query-2:What hour of the day had the highest power usage on Christmas 2006?\n",
      " Generated code:\n",
      " import pandas as pd\n",
      "\n",
      "# Filter data for Christmas 2006\n",
      "christmas_2006 = df.loc['2006-12-25']\n",
      "\n",
      "# Resample data by hour and calculate mean active power\n",
      "hourly_power = christmas_2006.resample('H')['Global_active_power'].mean()\n",
      "\n",
      "# Find the hour with the highest power usage\n",
      "max_power_hour = hourly_power.idxmax()\n",
      "\n",
      "print(max_power_hour)\n",
      "\n",
      "Query-3:Compare energy usage (Global_active_power) on weekdays vs weekends.\n",
      " Generated code:\n",
      " import pandas as pd\n",
      "import matplotlib.pyplot as plt\n",
      "\n",
      "# Create a column 'day_of_week' in the dataframe\n",
      "df['day_of_week'] = df.index.dayofweek\n",
      "\n",
      "# Create two separate dataframes for weekdays and weekends\n",
      "weekdays = df[df['day_of_week'] < 5]\n",
      "weekends = df[df['day_of_week'] >= 5]\n",
      "\n",
      "# Calculate the mean Global_active_power for weekdays and weekends\n",
      "mean_weekdays = weekdays['Global_active_power'].mean()\n",
      "mean_weekends = weekends['Global_active_power'].mean()\n",
      "\n",
      "# Print the results\n",
      "print(\"Mean Global_active_power on weekdays:\", mean_weekdays)\n",
      "print(\"Mean Global_active_power on weekends:\", mean_weekends)\n",
      "\n",
      "# Plot the comparison\n",
      "plt.bar(['Weekdays', 'Weekends'], [mean_weekdays, mean_weekends])\n",
      "plt.title(\"Comparison of Global_active_power on Weekdays vs Weekends\")\n",
      "plt.xlabel(\"Day Type\")\n",
      "plt.ylabel(\"Mean Global_active_power (kW)\")\n",
      "plt.show()\n",
      "\n",
      "Query-4:Find days where energy consumption exceeded 5 kWh.\n",
      " Generated code:\n",
      " import pandas as pd\n",
      "\n",
      "exceeding_days = df[df['Sub_metering_1'] + df['Sub_metering_2'] + df['Sub_metering_3'] > 5].index.normalize().unique()\n",
      "print(exceeding_days)\n",
      "\n",
      "Query-5:Plot the energy usage trend for the first week of January 2007.\n",
      " Generated code:\n",
      " import matplotlib.pyplot as plt\n",
      "energy_week = df.loc['2007-01-01':'2007-01-07'][['Sub_metering_1', 'Sub_metering_2', 'Sub_metering_3']].sum(axis=1)\n",
      "energy_week.plot()\n",
      "plt.title(\"Energy usage trend for the first week of January 2007\")\n",
      "plt.xlabel(\"Time\")\n",
      "plt.ylabel(\"Energy usage (watt-hour)\")\n",
      "plt.show()\n",
      "\n",
      "Query-6:Find the average voltage for each day of the first week of February 2007.\n",
      " Generated code:\n",
      " import pandas as pd\n",
      "\n",
      "avg_volt_week = df.loc['2007-02-01':'2007-02-07'].resample('D')['Voltage'].mean()\n",
      "print(avg_volt_week)\n",
      "\n",
      "Query-7:What is the correlation between global active power and sub-metering values?\n",
      " Generated code:\n",
      " import pandas as pd\n",
      "corr_matrix = df[['Global_active_power', 'Sub_metering_1', 'Sub_metering_2', 'Sub_metering_3']].corr()\n",
      "print(corr_matrix.loc['Global_active_power', ['Sub_metering_1', 'Sub_metering_2', 'Sub_metering_3']])\n",
      "\n"
     ]
    }
   ],
   "source": [
    "llm_resoponses = []\n",
    "for idx, query in enumerate(queries, start=1):\n",
    "    code = generate_code(query)\n",
    "    validation = validate_code(query, code)\n",
    "    \n",
    "    # if response is invalid, refining it once\n",
    "    if not validation.startswith('VALID'):\n",
    "        code = refine_code(query, code)\n",
    "        validation = validate_code(query, code)\n",
    "        llm_resoponses.append(code)\n",
    "    \n",
    "    if validation.startswith('VALID'):\n",
    "        print(f\"Query-{idx}:{query}\\n Generated code:\\n {code}\\n\")\n",
    "        llm_resoponses.append(code)\n",
    "    else:\n",
    "        print(f\"Failed to produce valid code for query {idx}: \\n{validation}\")\n"
   ]
  },
  {
   "cell_type": "code",
   "execution_count": 19,
   "id": "1f5c8dce",
   "metadata": {},
   "outputs": [
    {
     "name": "stdout",
     "output_type": "stream",
     "text": [
      "Query:What was the average active power consumption in March 2007?\n",
      "Code Output:\n",
      "1.3186270301754073\n",
      "\n",
      "\n",
      "Query:What hour of the day had the highest power usage on Christmas 2006?\n",
      "Code Output:\n",
      "2006-12-25 22:00:00\n",
      "\n",
      "\n",
      "Query:Compare energy usage (Global_active_power) on weekdays vs weekends.\n",
      "Code Output:\n"
     ]
    },
    {
     "name": "stderr",
     "output_type": "stream",
     "text": [
      "<string>:7: FutureWarning: 'H' is deprecated and will be removed in a future version, please use 'h' instead.\n"
     ]
    },
    {
     "name": "stdout",
     "output_type": "stream",
     "text": [
      "Mean Global_active_power on weekdays: 1.0354720516747509\n",
      "Mean Global_active_power on weekends: 1.234232176791304\n"
     ]
    },
    {
     "data": {
      "image/png": "[encoded data removed]",
      "text/plain": [
       "<Figure size 640x480 with 1 Axes>"
      ]
     },
     "metadata": {},
     "output_type": "display_data"
    },
    {
     "name": "stdout",
     "output_type": "stream",
     "text": [
      "\n",
      "\n",
      "Query:Find days where energy consumption exceeded 5 kWh.\n",
      "Code Output:\n",
      "DatetimeIndex(['2006-12-16', '2006-12-17', '2006-12-18', '2006-12-19',\n",
      "               '2006-12-20', '2006-12-21', '2006-12-22', '2006-12-23',\n",
      "               '2006-12-24', '2006-12-25',\n",
      "               ...\n",
      "               '2010-11-17', '2010-11-18', '2010-11-19', '2010-11-20',\n",
      "               '2010-11-21', '2010-11-22', '2010-11-23', '2010-11-24',\n",
      "               '2010-11-25', '2010-11-26'],\n",
      "              dtype='datetime64[ns]', name='datetime', length=1432, freq=None)\n",
      "\n",
      "\n",
      "Query:Plot the energy usage trend for the first week of January 2007.\n",
      "Code Output:\n"
     ]
    },
    {
     "data": {
      "image/png": "[encoded data removed]",
      "text/plain": [
       "<Figure size 640x480 with 1 Axes>"
      ]
     },
     "metadata": {},
     "output_type": "display_data"
    },
    {
     "name": "stdout",
     "output_type": "stream",
     "text": [
      "\n",
      "\n",
      "Query:Find the average voltage for each day of the first week of February 2007.\n",
      "Code Output:\n",
      "datetime\n",
      "2007-02-01    240.392139\n",
      "2007-02-02    240.334389\n",
      "2007-02-03    238.910194\n",
      "2007-02-04    239.633333\n",
      "2007-02-05    240.810312\n",
      "2007-02-06    241.264160\n",
      "2007-02-07    241.149694\n",
      "Freq: D, Name: Voltage, dtype: float64\n",
      "\n",
      "\n",
      "Query:What is the correlation between global active power and sub-metering values?\n",
      "Code Output:\n",
      "Sub_metering_1    0.484401\n",
      "Sub_metering_2    0.434569\n",
      "Sub_metering_3    0.638555\n",
      "Name: Global_active_power, dtype: float64\n",
      "\n",
      "\n"
     ]
    }
   ],
   "source": [
    "for query, code in zip(queries,llm_resoponses):\n",
    "    try:\n",
    "        print(f\"Query:{query}\")\n",
    "        print(\"Code Output:\")\n",
    "        exec(code)\n",
    "        print(\"\\n\")\n",
    "    except Exception as e:\n",
    "        print(\"An error occurred during execution of query:\",{query})\n",
    "        print(\"\\n Error:\", str(e))"
   ]
  },
  {
   "cell_type": "code",
   "execution_count": null,
   "id": "1114ce95",
   "metadata": {},
   "outputs": [],
   "source": []
  }
 ],
 "metadata": {
  "kernelspec": {
   "display_name": "Python (GenAI)",
   "language": "python",
   "name": "genai"
  },
  "language_info": {
   "codemirror_mode": {
    "name": "ipython",
    "version": 3
   },
   "file_extension": ".py",
   "mimetype": "text/x-python",
   "name": "python",
   "nbconvert_exporter": "python",
   "pygments_lexer": "ipython3",
   "version": "3.11.5"
  }
 },
 "nbformat": 4,
 "nbformat_minor": 5
}
